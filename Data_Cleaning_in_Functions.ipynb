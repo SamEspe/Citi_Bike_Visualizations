{
 "cells": [
  {
   "cell_type": "code",
   "execution_count": 1,
   "id": "62417cb3",
   "metadata": {},
   "outputs": [],
   "source": [
    "# Import dependencies\n",
    "import pandas as pd\n",
    "import random\n",
    "import datetime as dt"
   ]
  },
  {
   "cell_type": "code",
   "execution_count": 2,
   "id": "ac74280f",
   "metadata": {},
   "outputs": [],
   "source": [
    "# Cleans the data by dropping the columns I'm not interested in, removing entries with NaN values, and removing duplicates.\n",
    "# This function only works for data *after* January, 2021. \n",
    "def clean_data(csv):\n",
    "    raw_data = pd.read_csv(csv)\n",
    "    dropped_columns = raw_data.drop(columns=[\"ride_id\", \"start_station_id\", \"end_station_id\"])\n",
    "    dropped_nas = dropped_columns.dropna()\n",
    "    dropped_dups = dropped_nas.drop_duplicates(ignore_index=True)\n",
    "    reindexed_df = dropped_dups.reset_index(drop=True)\n",
    "    \n",
    "    return reindexed_df"
   ]
  },
  {
   "cell_type": "code",
   "execution_count": 3,
   "id": "7c3a7b85",
   "metadata": {},
   "outputs": [],
   "source": [
    "# Takes a random sample of 5,000 entries for visualization with Tableau. This keeps the amount of data Tableau has to work \n",
    "# with to a more reasonable level, and it keeps the resulting CSV file under GitHub's maximum file size.\n",
    "def take_random_sample(df):\n",
    "    random_list = random.sample(range(0, len(df)), 5000)\n",
    "    sample_df = df[df.index.isin(random_list)]\n",
    "    sample_df = sample_df.reset_index(drop=True)\n",
    "    \n",
    "    return sample_df"
   ]
  },
  {
   "cell_type": "code",
   "execution_count": 4,
   "id": "1b1e5e0c",
   "metadata": {},
   "outputs": [],
   "source": [
    "# Round the geographic coordinates of each entry to 3 decimal points. This helps trips at the same stations to get grouped \n",
    "#together. This only works for \n",
    "\n",
    "def round_coords(df):\n",
    "    df[\"start_lat\"] = df[\"start_lat\"].round(3)\n",
    "    df[\"start_lng\"] = df[\"start_lng\"].round(3)\n",
    "    df[\"end_lat\"] = df[\"end_lat\"].round(3)\n",
    "    df[\"end_lng\"] = df[\"end_lng\"].round(3)\n",
    "    \n",
    "    return df"
   ]
  },
  {
   "cell_type": "code",
   "execution_count": 5,
   "id": "4b6ef548",
   "metadata": {},
   "outputs": [],
   "source": [
    "# This calculates how long each trip took in seconds and adds it to the dataframe. This is only needed for \n",
    "\n",
    "def calculate_ride_time(df):\n",
    "    ride_time = []\n",
    "\n",
    "    for event in range(0, len(df)):\n",
    "        # Convert started_at to datetime object, save it\n",
    "        started_dt = dt.datetime.strptime(df[\"started_at\"][event], \"%Y-%m-%d %H:%M:%S\")\n",
    "        # Convert ended_at to datetime object, save it\n",
    "        ended_dt = dt.datetime.strptime(df[\"ended_at\"][event], \"%Y-%m-%d %H:%M:%S\")\n",
    "        # Calculate elapsed time in seconds\n",
    "        time_change = ended_dt - started_dt\n",
    "        elapsed_seconds = time_change.seconds        \n",
    "        # Append string to series\n",
    "        ride_time.append(elapsed_seconds)\n",
    "        \n",
    "    df[\"ride_time\"] = ride_time\n",
    "    \n",
    "    return df"
   ]
  },
  {
   "cell_type": "code",
   "execution_count": 6,
   "id": "5da778a0",
   "metadata": {},
   "outputs": [
    {
     "name": "stderr",
     "output_type": "stream",
     "text": [
      "C:\\Users\\itssm\\AppData\\Local\\Temp\\ipykernel_12108\\2993380063.py:4: DtypeWarning: Columns (5,7) have mixed types. Specify dtype option on import or set low_memory=False.\n",
      "  raw_data = pd.read_csv(csv)\n"
     ]
    }
   ],
   "source": [
    "# September 2022 data\n",
    "\n",
    "raw_file = \"raw_data/202209-citibike-tripdata.csv\"\n",
    "cleaned = clean_data(raw_file)\n",
    "sample = take_random_sample(cleaned)\n",
    "rounded = round_coords(sample)\n",
    "final_form_sep_22 = calculate_ride_time(rounded)\n",
    "\n",
    "total_ridership_sep_2022 = len(cleaned)"
   ]
  },
  {
   "cell_type": "code",
   "execution_count": 7,
   "id": "fd91fc3e",
   "metadata": {},
   "outputs": [
    {
     "name": "stderr",
     "output_type": "stream",
     "text": [
      "C:\\Users\\itssm\\AppData\\Local\\Temp\\ipykernel_12108\\2993380063.py:4: DtypeWarning: Columns (5,7) have mixed types. Specify dtype option on import or set low_memory=False.\n",
      "  raw_data = pd.read_csv(csv)\n"
     ]
    }
   ],
   "source": [
    "# August 2022 data\n",
    "\n",
    "raw_file = \"raw_data/202208-citibike-tripdata.csv\"\n",
    "cleaned = clean_data(raw_file)\n",
    "sample = take_random_sample(cleaned)\n",
    "rounded = round_coords(sample)\n",
    "final_form_aug_22 = calculate_ride_time(rounded)\n",
    "\n",
    "total_ridership_aug_2022 = len(cleaned)"
   ]
  },
  {
   "cell_type": "code",
   "execution_count": 8,
   "id": "79fa49da",
   "metadata": {},
   "outputs": [
    {
     "name": "stderr",
     "output_type": "stream",
     "text": [
      "C:\\Users\\itssm\\AppData\\Local\\Temp\\ipykernel_12108\\2993380063.py:4: DtypeWarning: Columns (5,7) have mixed types. Specify dtype option on import or set low_memory=False.\n",
      "  raw_data = pd.read_csv(csv)\n"
     ]
    }
   ],
   "source": [
    "# July 2022 data\n",
    "\n",
    "raw_file = \"raw_data/202207-citibike-tripdata.csv\"\n",
    "cleaned = clean_data(raw_file)\n",
    "sample = take_random_sample(cleaned)\n",
    "rounded = round_coords(sample)\n",
    "final_form_jul_22 = calculate_ride_time(rounded)\n",
    "\n",
    "total_ridership_jul_2022 = len(cleaned)"
   ]
  },
  {
   "cell_type": "code",
   "execution_count": 9,
   "id": "a233d747",
   "metadata": {},
   "outputs": [
    {
     "name": "stderr",
     "output_type": "stream",
     "text": [
      "C:\\Users\\itssm\\AppData\\Local\\Temp\\ipykernel_12108\\2993380063.py:4: DtypeWarning: Columns (5,7) have mixed types. Specify dtype option on import or set low_memory=False.\n",
      "  raw_data = pd.read_csv(csv)\n"
     ]
    }
   ],
   "source": [
    "# June 2022\n",
    "\n",
    "raw_file = \"raw_data/202206-citibike-tripdata.csv\"\n",
    "cleaned = clean_data(raw_file)\n",
    "sample = take_random_sample(cleaned)\n",
    "rounded = round_coords(sample)\n",
    "final_form_jun_22 = calculate_ride_time(rounded)\n",
    "\n",
    "total_ridership_jun_2022 = len(cleaned)"
   ]
  },
  {
   "cell_type": "code",
   "execution_count": 10,
   "id": "f17ce0b2",
   "metadata": {},
   "outputs": [
    {
     "name": "stderr",
     "output_type": "stream",
     "text": [
      "C:\\Users\\itssm\\AppData\\Local\\Temp\\ipykernel_12108\\2993380063.py:4: DtypeWarning: Columns (5,7) have mixed types. Specify dtype option on import or set low_memory=False.\n",
      "  raw_data = pd.read_csv(csv)\n"
     ]
    }
   ],
   "source": [
    "# May 2022\n",
    "\n",
    "raw_file = \"raw_data/202205-citibike-tripdata.csv\"\n",
    "cleaned = clean_data(raw_file)\n",
    "sample = take_random_sample(cleaned)\n",
    "rounded = round_coords(sample)\n",
    "final_form_may_22 = calculate_ride_time(rounded)\n",
    "\n",
    "total_ridership_may_2022 = len(cleaned)"
   ]
  },
  {
   "cell_type": "code",
   "execution_count": 11,
   "id": "bd5095fb",
   "metadata": {},
   "outputs": [
    {
     "name": "stderr",
     "output_type": "stream",
     "text": [
      "C:\\Users\\itssm\\AppData\\Local\\Temp\\ipykernel_12108\\2993380063.py:4: DtypeWarning: Columns (5,7) have mixed types. Specify dtype option on import or set low_memory=False.\n",
      "  raw_data = pd.read_csv(csv)\n"
     ]
    }
   ],
   "source": [
    "# April 2022\n",
    "\n",
    "raw_file = \"raw_data/202204-citibike-tripdata.csv\"\n",
    "cleaned = clean_data(raw_file)\n",
    "sample = take_random_sample(cleaned)\n",
    "rounded = round_coords(sample)\n",
    "final_form_apr_22 = calculate_ride_time(rounded)\n",
    "\n",
    "total_ridership_apr_2022 = len(cleaned)"
   ]
  },
  {
   "cell_type": "code",
   "execution_count": 12,
   "id": "cce281ac",
   "metadata": {},
   "outputs": [
    {
     "name": "stderr",
     "output_type": "stream",
     "text": [
      "C:\\Users\\itssm\\AppData\\Local\\Temp\\ipykernel_12108\\2993380063.py:4: DtypeWarning: Columns (5,7) have mixed types. Specify dtype option on import or set low_memory=False.\n",
      "  raw_data = pd.read_csv(csv)\n"
     ]
    }
   ],
   "source": [
    "# March 2022\n",
    "\n",
    "raw_file = \"raw_data/202203-citibike-tripdata.csv\"\n",
    "cleaned = clean_data(raw_file)\n",
    "sample = take_random_sample(cleaned)\n",
    "rounded = round_coords(sample)\n",
    "final_form_mar_22 = calculate_ride_time(rounded)\n",
    "\n",
    "total_ridership_mar_2022 = len(cleaned)"
   ]
  },
  {
   "cell_type": "code",
   "execution_count": 13,
   "id": "2947e99e",
   "metadata": {},
   "outputs": [
    {
     "name": "stderr",
     "output_type": "stream",
     "text": [
      "C:\\Users\\itssm\\AppData\\Local\\Temp\\ipykernel_12108\\2993380063.py:4: DtypeWarning: Columns (5,7) have mixed types. Specify dtype option on import or set low_memory=False.\n",
      "  raw_data = pd.read_csv(csv)\n"
     ]
    }
   ],
   "source": [
    "# February 2022\n",
    "\n",
    "raw_file = \"raw_data/202202-citibike-tripdata.csv\"\n",
    "cleaned = clean_data(raw_file)\n",
    "sample = take_random_sample(cleaned)\n",
    "rounded = round_coords(sample)\n",
    "final_form_feb_22 = calculate_ride_time(rounded)\n",
    "\n",
    "total_ridership_feb_2022 = len(cleaned)"
   ]
  },
  {
   "cell_type": "code",
   "execution_count": 14,
   "id": "b33cf430",
   "metadata": {},
   "outputs": [
    {
     "name": "stderr",
     "output_type": "stream",
     "text": [
      "C:\\Users\\itssm\\AppData\\Local\\Temp\\ipykernel_12108\\2993380063.py:4: DtypeWarning: Columns (5,7) have mixed types. Specify dtype option on import or set low_memory=False.\n",
      "  raw_data = pd.read_csv(csv)\n"
     ]
    }
   ],
   "source": [
    "# January 2022\n",
    "\n",
    "raw_file = \"raw_data/202201-citibike-tripdata.csv\"\n",
    "cleaned = clean_data(raw_file)\n",
    "sample = take_random_sample(cleaned)\n",
    "rounded = round_coords(sample)\n",
    "final_form_jan_22 = calculate_ride_time(rounded)\n",
    "\n",
    "total_ridership_jan_2022 = len(cleaned)"
   ]
  },
  {
   "cell_type": "code",
   "execution_count": 15,
   "id": "7947e3e7",
   "metadata": {},
   "outputs": [
    {
     "name": "stderr",
     "output_type": "stream",
     "text": [
      "C:\\Users\\itssm\\AppData\\Local\\Temp\\ipykernel_12108\\2993380063.py:4: DtypeWarning: Columns (5,7) have mixed types. Specify dtype option on import or set low_memory=False.\n",
      "  raw_data = pd.read_csv(csv)\n"
     ]
    }
   ],
   "source": [
    "# December 2021\n",
    "\n",
    "raw_file = \"raw_data/202112-citibike-tripdata.csv\"\n",
    "cleaned = clean_data(raw_file)\n",
    "sample = take_random_sample(cleaned)\n",
    "rounded = round_coords(sample)\n",
    "final_form_dec_21 = calculate_ride_time(rounded)\n",
    "\n",
    "total_ridership_dec_2021 = len(cleaned)"
   ]
  },
  {
   "cell_type": "code",
   "execution_count": 16,
   "id": "4d2aeddf",
   "metadata": {},
   "outputs": [
    {
     "name": "stderr",
     "output_type": "stream",
     "text": [
      "C:\\Users\\itssm\\AppData\\Local\\Temp\\ipykernel_12108\\2993380063.py:4: DtypeWarning: Columns (5,7) have mixed types. Specify dtype option on import or set low_memory=False.\n",
      "  raw_data = pd.read_csv(csv)\n"
     ]
    }
   ],
   "source": [
    "# November 2021\n",
    "\n",
    "raw_file = \"raw_data/202111-citibike-tripdata.csv\"\n",
    "cleaned = clean_data(raw_file)\n",
    "sample = take_random_sample(cleaned)\n",
    "rounded = round_coords(sample)\n",
    "final_form_nov_21 = calculate_ride_time(rounded)\n",
    "\n",
    "total_ridership_nov_2021 = len(cleaned)"
   ]
  },
  {
   "cell_type": "code",
   "execution_count": 17,
   "id": "b09b1de1",
   "metadata": {},
   "outputs": [
    {
     "name": "stderr",
     "output_type": "stream",
     "text": [
      "C:\\Users\\itssm\\AppData\\Local\\Temp\\ipykernel_12108\\2993380063.py:4: DtypeWarning: Columns (5,7) have mixed types. Specify dtype option on import or set low_memory=False.\n",
      "  raw_data = pd.read_csv(csv)\n"
     ]
    }
   ],
   "source": [
    "# October 2021\n",
    "\n",
    "raw_file = \"raw_data/202110-citibike-tripdata.csv\"\n",
    "cleaned = clean_data(raw_file)\n",
    "sample = take_random_sample(cleaned)\n",
    "rounded = round_coords(sample)\n",
    "final_form_oct_21 = calculate_ride_time(rounded)\n",
    "\n",
    "total_ridership_oct_2021 = len(cleaned)"
   ]
  },
  {
   "cell_type": "code",
   "execution_count": 18,
   "id": "32b017e7",
   "metadata": {},
   "outputs": [
    {
     "name": "stderr",
     "output_type": "stream",
     "text": [
      "C:\\Users\\itssm\\AppData\\Local\\Temp\\ipykernel_12108\\2993380063.py:4: DtypeWarning: Columns (7) have mixed types. Specify dtype option on import or set low_memory=False.\n",
      "  raw_data = pd.read_csv(csv)\n"
     ]
    }
   ],
   "source": [
    "# September 2021\n",
    "\n",
    "raw_file = \"raw_data/202109-citibike-tripdata.csv\"\n",
    "cleaned = clean_data(raw_file)\n",
    "sample = take_random_sample(cleaned)\n",
    "rounded = round_coords(sample)\n",
    "final_form_sep_21= calculate_ride_time(rounded)\n",
    "\n",
    "total_ridership_sep_2021 = len(cleaned)"
   ]
  },
  {
   "cell_type": "code",
   "execution_count": 19,
   "id": "b1979f64",
   "metadata": {},
   "outputs": [
    {
     "name": "stderr",
     "output_type": "stream",
     "text": [
      "C:\\Users\\itssm\\AppData\\Local\\Temp\\ipykernel_12108\\2993380063.py:4: DtypeWarning: Columns (7) have mixed types. Specify dtype option on import or set low_memory=False.\n",
      "  raw_data = pd.read_csv(csv)\n"
     ]
    }
   ],
   "source": [
    "# August 2021\n",
    "\n",
    "raw_file = \"raw_data/202108-citibike-tripdata.csv\"\n",
    "cleaned = clean_data(raw_file)\n",
    "sample = take_random_sample(cleaned)\n",
    "rounded = round_coords(sample)\n",
    "final_form_aug_21 = calculate_ride_time(rounded)\n",
    "\n",
    "total_ridership_aug_2021 = len(cleaned)"
   ]
  },
  {
   "cell_type": "code",
   "execution_count": 20,
   "id": "6ddb3641",
   "metadata": {},
   "outputs": [
    {
     "name": "stderr",
     "output_type": "stream",
     "text": [
      "C:\\Users\\itssm\\AppData\\Local\\Temp\\ipykernel_12108\\2993380063.py:4: DtypeWarning: Columns (7) have mixed types. Specify dtype option on import or set low_memory=False.\n",
      "  raw_data = pd.read_csv(csv)\n"
     ]
    }
   ],
   "source": [
    "# July 2021\n",
    "\n",
    "raw_file = \"raw_data/202107-citibike-tripdata.csv\"\n",
    "cleaned = clean_data(raw_file)\n",
    "sample = take_random_sample(cleaned)\n",
    "rounded = round_coords(sample)\n",
    "final_form_jul_21 = calculate_ride_time(rounded)\n",
    "\n",
    "total_ridership_jul_2021 = len(cleaned)"
   ]
  },
  {
   "cell_type": "code",
   "execution_count": 21,
   "id": "f19f63ac",
   "metadata": {},
   "outputs": [
    {
     "name": "stderr",
     "output_type": "stream",
     "text": [
      "C:\\Users\\itssm\\AppData\\Local\\Temp\\ipykernel_12108\\2993380063.py:4: DtypeWarning: Columns (7) have mixed types. Specify dtype option on import or set low_memory=False.\n",
      "  raw_data = pd.read_csv(csv)\n"
     ]
    }
   ],
   "source": [
    "# June 2021\n",
    "\n",
    "raw_file = \"raw_data/202106-citibike-tripdata.csv\"\n",
    "cleaned = clean_data(raw_file)\n",
    "sample = take_random_sample(cleaned)\n",
    "rounded = round_coords(sample)\n",
    "final_form_jun_21 = calculate_ride_time(rounded)\n",
    "\n",
    "total_ridership_jun_2021 = len(cleaned)"
   ]
  },
  {
   "cell_type": "code",
   "execution_count": 22,
   "id": "0aa60ca0",
   "metadata": {},
   "outputs": [
    {
     "name": "stderr",
     "output_type": "stream",
     "text": [
      "C:\\Users\\itssm\\AppData\\Local\\Temp\\ipykernel_12108\\2993380063.py:4: DtypeWarning: Columns (5,7) have mixed types. Specify dtype option on import or set low_memory=False.\n",
      "  raw_data = pd.read_csv(csv)\n"
     ]
    }
   ],
   "source": [
    "# May 2021\n",
    "\n",
    "raw_file = \"raw_data/202105-citibike-tripdata.csv\"\n",
    "cleaned = clean_data(raw_file)\n",
    "sample = take_random_sample(cleaned)\n",
    "rounded = round_coords(sample)\n",
    "final_form_may_21 = calculate_ride_time(rounded)\n",
    "\n",
    "total_ridership_may_2021 = len(cleaned)"
   ]
  },
  {
   "cell_type": "code",
   "execution_count": 23,
   "id": "18e70617",
   "metadata": {},
   "outputs": [
    {
     "name": "stderr",
     "output_type": "stream",
     "text": [
      "C:\\Users\\itssm\\AppData\\Local\\Temp\\ipykernel_12108\\2993380063.py:4: DtypeWarning: Columns (5,7) have mixed types. Specify dtype option on import or set low_memory=False.\n",
      "  raw_data = pd.read_csv(csv)\n"
     ]
    }
   ],
   "source": [
    "# April 2021\n",
    "\n",
    "raw_file = \"raw_data/202104-citibike-tripdata.csv\"\n",
    "cleaned = clean_data(raw_file)\n",
    "sample = take_random_sample(cleaned)\n",
    "rounded = round_coords(sample)\n",
    "final_form_apr_21 = calculate_ride_time(rounded)\n",
    "\n",
    "total_ridership_apr_2021 = len(cleaned)"
   ]
  },
  {
   "cell_type": "code",
   "execution_count": 24,
   "id": "79ab4c40",
   "metadata": {},
   "outputs": [
    {
     "name": "stderr",
     "output_type": "stream",
     "text": [
      "C:\\Users\\itssm\\AppData\\Local\\Temp\\ipykernel_12108\\2993380063.py:4: DtypeWarning: Columns (5,7) have mixed types. Specify dtype option on import or set low_memory=False.\n",
      "  raw_data = pd.read_csv(csv)\n"
     ]
    }
   ],
   "source": [
    "# March 2021\n",
    "\n",
    "raw_file = \"raw_data/202103-citibike-tripdata.csv\"\n",
    "cleaned = clean_data(raw_file)\n",
    "sample = take_random_sample(cleaned)\n",
    "rounded = round_coords(sample)\n",
    "final_form_mar_21 = calculate_ride_time(rounded)\n",
    "\n",
    "total_ridership_mar_2021 = len(cleaned)"
   ]
  },
  {
   "cell_type": "code",
   "execution_count": 25,
   "id": "2d6d6515",
   "metadata": {},
   "outputs": [
    {
     "name": "stderr",
     "output_type": "stream",
     "text": [
      "C:\\Users\\itssm\\AppData\\Local\\Temp\\ipykernel_12108\\2993380063.py:4: DtypeWarning: Columns (5,7) have mixed types. Specify dtype option on import or set low_memory=False.\n",
      "  raw_data = pd.read_csv(csv)\n"
     ]
    }
   ],
   "source": [
    "# February 2021\n",
    "\n",
    "raw_file = \"raw_data/202102-citibike-tripdata.csv\"\n",
    "cleaned = clean_data(raw_file)\n",
    "sample = take_random_sample(cleaned)\n",
    "rounded = round_coords(sample)\n",
    "final_form_feb_21 = calculate_ride_time(rounded)\n",
    "\n",
    "total_ridership_feb_2021 = len(cleaned)"
   ]
  },
  {
   "cell_type": "code",
   "execution_count": 26,
   "id": "5d1a4f43",
   "metadata": {},
   "outputs": [],
   "source": [
    "# This function is an adjusted version of my clean_data function. This function has the additional steps of masking the titles\n",
    "# of the columns to match the columns\n",
    "def clean_data_early(csv):\n",
    "    raw_data = pd.read_csv(csv)\n",
    "    masked_cols = raw_data.rename(columns = {\"tripduration\": \"ride_time\", \"starttime\": \"started_at\", \"stoptime\": \"ended_at\", \"start station id\": \"start_station_id\", \"start station name\": \"start_station_name\", \"start station latitude\": \"start_lat\", \"start station longitude\": \"start_lng\", \"end station id\": \"end_station_id\", \"end station name\": \"end_station_name\", \"end station latitude\": \"end_lat\", \"end station longitude\": \"end_lng\", \"usertype\":\"member_casual\"})\n",
    "    masked_cols[\"member_casual\"] = masked_cols[\"member_casual\"].map({\"Subscriber\": \"member\", \"Customer\": \"casual\"})\n",
    "    dropped_cols = masked_cols.drop(columns=[\"start_station_id\", \"end_station_id\", \"bikeid\", \"birth year\", \"gender\"])\n",
    "    rearranged = dropped_cols[[\"started_at\", \"ended_at\", \"start_station_name\", \"start_lat\", \"start_lng\", \"end_station_name\", \"end_lat\", \"end_lng\", \"member_casual\", \"ride_time\"]]\n",
    "    dropped_nas = rearranged.dropna()\n",
    "    dropped_dups = dropped_nas.drop_duplicates(ignore_index = True)\n",
    "    reindexed_df = dropped_dups.reset_index(drop = True)\n",
    "    return reindexed_df"
   ]
  },
  {
   "cell_type": "code",
   "execution_count": 27,
   "id": "01f20577",
   "metadata": {},
   "outputs": [],
   "source": [
    "# January 2021\n",
    "\n",
    "raw_file = \"raw_data/202101-citibike-tripdata.csv\"\n",
    "cleaned = clean_data_early(raw_file)\n",
    "sample = take_random_sample(cleaned)\n",
    "final_form_jan_21 = round_coords(sample)\n",
    "\n",
    "total_ridership_jan_2021 = len(cleaned)"
   ]
  },
  {
   "cell_type": "code",
   "execution_count": 28,
   "id": "698a1725",
   "metadata": {},
   "outputs": [],
   "source": [
    "# December 2020\n",
    "\n",
    "raw_file = \"raw_data/202012-citibike-tripdata.csv\"\n",
    "cleaned = clean_data_early(raw_file)\n",
    "sample = take_random_sample(cleaned)\n",
    "final_form_dec_20 = round_coords(sample)\n",
    "\n",
    "total_ridership_dec_20 = len(cleaned)"
   ]
  },
  {
   "cell_type": "code",
   "execution_count": 29,
   "id": "a1103b82",
   "metadata": {},
   "outputs": [],
   "source": [
    "# November 2020\n",
    "\n",
    "raw_file = \"raw_data/202011-citibike-tripdata.csv\"\n",
    "cleaned = clean_data_early(raw_file)\n",
    "sample = take_random_sample(cleaned)\n",
    "final_form_nov_20 = round_coords(sample)\n",
    "\n",
    "total_ridership_nov_20 = len(cleaned)"
   ]
  },
  {
   "cell_type": "code",
   "execution_count": 30,
   "id": "ce12db03",
   "metadata": {},
   "outputs": [],
   "source": [
    "# October 2020\n",
    "\n",
    "raw_file = \"raw_data/202010-citibike-tripdata.csv\"\n",
    "cleaned = clean_data_early(raw_file)\n",
    "sample = take_random_sample(cleaned)\n",
    "final_form_oct_20 = round_coords(sample)\n",
    "\n",
    "total_ridership_oct_20 = len(cleaned)"
   ]
  },
  {
   "cell_type": "code",
   "execution_count": 31,
   "id": "31026666",
   "metadata": {},
   "outputs": [],
   "source": [
    "# September 2020\n",
    "\n",
    "raw_file = \"raw_data/202009-citibike-tripdata.csv\"\n",
    "cleaned = clean_data_early(raw_file)\n",
    "sample = take_random_sample(cleaned)\n",
    "final_form_sep_20 = round_coords(sample)\n",
    "\n",
    "total_ridership_sep_20 = len(cleaned)"
   ]
  },
  {
   "cell_type": "code",
   "execution_count": 32,
   "id": "4a60a3b3",
   "metadata": {},
   "outputs": [],
   "source": [
    "# August 2020\n",
    "\n",
    "raw_file = \"raw_data/202008-citibike-tripdata.csv\"\n",
    "cleaned = clean_data_early(raw_file)\n",
    "sample = take_random_sample(cleaned)\n",
    "final_form_aug_20 = round_coords(sample)\n",
    "\n",
    "total_ridership_aug_20 = len(cleaned)"
   ]
  },
  {
   "cell_type": "code",
   "execution_count": 33,
   "id": "85de13d6",
   "metadata": {},
   "outputs": [],
   "source": [
    "# July 2020\n",
    "\n",
    "raw_file = \"raw_data/202007-citibike-tripdata.csv\"\n",
    "cleaned = clean_data_early(raw_file)\n",
    "sample = take_random_sample(cleaned)\n",
    "final_form_jul_20 = round_coords(sample)\n",
    "\n",
    "total_ridership_jul_20 = len(cleaned)"
   ]
  },
  {
   "cell_type": "code",
   "execution_count": 34,
   "id": "e9c8fb4b",
   "metadata": {},
   "outputs": [],
   "source": [
    "# June 2020\n",
    "\n",
    "raw_file = \"raw_data/202006-citibike-tripdata.csv\"\n",
    "cleaned = clean_data_early(raw_file)\n",
    "sample = take_random_sample(cleaned)\n",
    "final_form_jun_20 = round_coords(sample)\n",
    "\n",
    "total_ridership_jun_20 = len(cleaned)"
   ]
  },
  {
   "cell_type": "code",
   "execution_count": 35,
   "id": "621ce874",
   "metadata": {},
   "outputs": [],
   "source": [
    "# May 2020\n",
    "\n",
    "raw_file = \"raw_data/202005-citibike-tripdata.csv\"\n",
    "cleaned = clean_data_early(raw_file)\n",
    "sample = take_random_sample(cleaned)\n",
    "final_form_may_20 = round_coords(sample)\n",
    "\n",
    "total_ridership_may_20 = len(cleaned)"
   ]
  },
  {
   "cell_type": "code",
   "execution_count": 36,
   "id": "b7a09e77",
   "metadata": {},
   "outputs": [],
   "source": [
    "# April 2020\n",
    "\n",
    "raw_file = \"raw_data/202004-citibike-tripdata.csv\"\n",
    "cleaned = clean_data_early(raw_file)\n",
    "sample = take_random_sample(cleaned)\n",
    "final_form_apr_20 = round_coords(sample)\n",
    "\n",
    "total_ridership_apr_20 = len(cleaned)"
   ]
  },
  {
   "cell_type": "code",
   "execution_count": 37,
   "id": "9b532bdc",
   "metadata": {},
   "outputs": [],
   "source": [
    "# March 2020\n",
    "\n",
    "raw_file = \"raw_data/202003-citibike-tripdata.csv\"\n",
    "cleaned = clean_data_early(raw_file)\n",
    "sample = take_random_sample(cleaned)\n",
    "final_form_mar_20 = round_coords(sample)\n",
    "\n",
    "total_ridership_mar_20 = len(cleaned)"
   ]
  },
  {
   "cell_type": "code",
   "execution_count": 38,
   "id": "7a724c00",
   "metadata": {},
   "outputs": [],
   "source": [
    "# February 2020\n",
    "\n",
    "raw_file = \"raw_data/202002-citibike-tripdata.csv\"\n",
    "cleaned = clean_data_early(raw_file)\n",
    "sample = take_random_sample(cleaned)\n",
    "final_form_feb_20 = round_coords(sample)\n",
    "\n",
    "total_ridership_feb_20 = len(cleaned)"
   ]
  },
  {
   "cell_type": "code",
   "execution_count": 39,
   "id": "b184ef49",
   "metadata": {},
   "outputs": [],
   "source": [
    "# January 2020\n",
    "\n",
    "raw_file = \"raw_data/202001-citibike-tripdata.csv\"\n",
    "cleaned = clean_data_early(raw_file)\n",
    "sample = take_random_sample(cleaned)\n",
    "final_form_jan_20 = round_coords(sample)\n",
    "\n",
    "total_ridership_jan_20 = len(cleaned)"
   ]
  },
  {
   "cell_type": "code",
   "execution_count": 40,
   "id": "c1ec9e45",
   "metadata": {},
   "outputs": [],
   "source": [
    "# December 2019\n",
    "\n",
    "raw_file = \"raw_data/201912-citibike-tripdata.csv\"\n",
    "cleaned = clean_data_early(raw_file)\n",
    "sample = take_random_sample(cleaned)\n",
    "final_form_dec_19 = round_coords(sample)\n",
    "\n",
    "total_ridership_dec_19 = len(cleaned)"
   ]
  },
  {
   "cell_type": "code",
   "execution_count": 41,
   "id": "ec825e2e",
   "metadata": {},
   "outputs": [],
   "source": [
    "# November 2019\n",
    "\n",
    "raw_file = \"raw_data/201911-citibike-tripdata.csv\"\n",
    "cleaned = clean_data_early(raw_file)\n",
    "sample = take_random_sample(cleaned)\n",
    "final_form_nov_19 = round_coords(sample)\n",
    "\n",
    "total_ridership_nov_19 = len(cleaned)"
   ]
  },
  {
   "cell_type": "code",
   "execution_count": 42,
   "id": "301c3e8e",
   "metadata": {},
   "outputs": [],
   "source": [
    "# October 2019\n",
    "\n",
    "raw_file = \"raw_data/201910-citibike-tripdata.csv\"\n",
    "cleaned = clean_data_early(raw_file)\n",
    "sample = take_random_sample(cleaned)\n",
    "final_form_oct_19 = round_coords(sample)\n",
    "\n",
    "total_ridership_oct_19 = len(cleaned)"
   ]
  },
  {
   "cell_type": "code",
   "execution_count": 43,
   "id": "da398fda",
   "metadata": {},
   "outputs": [],
   "source": [
    "# September 2019\n",
    "\n",
    "raw_file = \"raw_data/201909-citibike-tripdata.csv\"\n",
    "cleaned = clean_data_early(raw_file)\n",
    "sample = take_random_sample(cleaned)\n",
    "final_form_sep_19 = round_coords(sample)\n",
    "\n",
    "total_ridership_sep_19 = len(cleaned)"
   ]
  },
  {
   "cell_type": "code",
   "execution_count": 44,
   "id": "5b8ffb50",
   "metadata": {},
   "outputs": [],
   "source": [
    "# August 2019\n",
    "\n",
    "raw_file = \"raw_data/201912-citibike-tripdata.csv\"\n",
    "cleaned = clean_data_early(raw_file)\n",
    "sample = take_random_sample(cleaned)\n",
    "final_form_aug_19 = round_coords(sample)\n",
    "\n",
    "total_ridership_aug_19 = len(cleaned)"
   ]
  },
  {
   "cell_type": "code",
   "execution_count": 45,
   "id": "3e45fb97",
   "metadata": {},
   "outputs": [],
   "source": [
    "# July 2019\n",
    "\n",
    "raw_file = \"raw_data/201907-citibike-tripdata.csv\"\n",
    "cleaned = clean_data_early(raw_file)\n",
    "sample = take_random_sample(cleaned)\n",
    "final_form_jul_19 = round_coords(sample)\n",
    "\n",
    "total_ridership_jul_19 = len(cleaned)"
   ]
  },
  {
   "cell_type": "code",
   "execution_count": 46,
   "id": "e9f23b92",
   "metadata": {},
   "outputs": [],
   "source": [
    "# June 2019\n",
    "\n",
    "raw_file = \"raw_data/201906-citibike-tripdata.csv\"\n",
    "cleaned = clean_data_early(raw_file)\n",
    "sample = take_random_sample(cleaned)\n",
    "final_form_jun_19 = round_coords(sample)\n",
    "\n",
    "total_ridership_jun_19 = len(cleaned)"
   ]
  },
  {
   "cell_type": "code",
   "execution_count": 47,
   "id": "be954ece",
   "metadata": {},
   "outputs": [],
   "source": [
    "# May 2019\n",
    "\n",
    "raw_file = \"raw_data/201905-citibike-tripdata.csv\"\n",
    "cleaned = clean_data_early(raw_file)\n",
    "sample = take_random_sample(cleaned)\n",
    "final_form_may_19 = round_coords(sample)\n",
    "\n",
    "total_ridership_may_19 = len(cleaned)"
   ]
  },
  {
   "cell_type": "code",
   "execution_count": 48,
   "id": "2014c8a1",
   "metadata": {},
   "outputs": [],
   "source": [
    "# April 2019\n",
    "\n",
    "raw_file = \"raw_data/201904-citibike-tripdata.csv\"\n",
    "cleaned = clean_data_early(raw_file)\n",
    "sample = take_random_sample(cleaned)\n",
    "final_form_apr_19 = round_coords(sample)\n",
    "\n",
    "total_ridership_apr_19 = len(cleaned)"
   ]
  },
  {
   "cell_type": "code",
   "execution_count": 49,
   "id": "16111c12",
   "metadata": {},
   "outputs": [],
   "source": [
    "# March 2019\n",
    "\n",
    "raw_file = \"raw_data/201903-citibike-tripdata.csv\"\n",
    "cleaned = clean_data_early(raw_file)\n",
    "sample = take_random_sample(cleaned)\n",
    "final_form_mar_19 = round_coords(sample)\n",
    "\n",
    "total_ridership_mar_19 = len(cleaned)"
   ]
  },
  {
   "cell_type": "code",
   "execution_count": 50,
   "id": "549ee4f8",
   "metadata": {},
   "outputs": [],
   "source": [
    "# February 2019\n",
    "\n",
    "raw_file = \"raw_data/201902-citibike-tripdata.csv\"\n",
    "cleaned = clean_data_early(raw_file)\n",
    "sample = take_random_sample(cleaned)\n",
    "final_form_feb_19 = round_coords(sample)\n",
    "\n",
    "total_ridership_feb_19 = len(cleaned)"
   ]
  },
  {
   "cell_type": "code",
   "execution_count": 51,
   "id": "a838ca5b",
   "metadata": {},
   "outputs": [],
   "source": [
    "# January 2019\n",
    "\n",
    "raw_file = \"raw_data/201901-citibike-tripdata.csv\"\n",
    "cleaned = clean_data_early(raw_file)\n",
    "sample = take_random_sample(cleaned)\n",
    "final_form_jan_19 = round_coords(sample)\n",
    "\n",
    "total_ridership_jan_19 = len(cleaned)"
   ]
  },
  {
   "cell_type": "code",
   "execution_count": 52,
   "id": "85eb1e39",
   "metadata": {},
   "outputs": [],
   "source": [
    "# December 2018\n",
    "\n",
    "raw_file = \"raw_data/201812-citibike-tripdata.csv\"\n",
    "cleaned = clean_data_early(raw_file)\n",
    "sample = take_random_sample(cleaned)\n",
    "final_form_dec_18 = round_coords(sample)\n",
    "\n",
    "total_ridership_dec_18 = len(cleaned)"
   ]
  },
  {
   "cell_type": "code",
   "execution_count": 53,
   "id": "14433a17",
   "metadata": {},
   "outputs": [],
   "source": [
    "# November 2018\n",
    "\n",
    "raw_file = \"raw_data/201811-citibike-tripdata.csv\"\n",
    "cleaned = clean_data_early(raw_file)\n",
    "sample = take_random_sample(cleaned)\n",
    "final_form_nov_18 = round_coords(sample)\n",
    "\n",
    "total_ridership_nov_18 = len(cleaned)"
   ]
  },
  {
   "cell_type": "code",
   "execution_count": 54,
   "id": "61389cc7",
   "metadata": {},
   "outputs": [],
   "source": [
    "# October 2018\n",
    "\n",
    "raw_file = \"raw_data/201810-citibike-tripdata.csv\"\n",
    "cleaned = clean_data_early(raw_file)\n",
    "sample = take_random_sample(cleaned)\n",
    "final_form_oct_18 = round_coords(sample)\n",
    "\n",
    "total_ridership_oct_18 = len(cleaned)"
   ]
  },
  {
   "cell_type": "code",
   "execution_count": 55,
   "id": "b21e3586",
   "metadata": {},
   "outputs": [],
   "source": [
    "# September 2018\n",
    "\n",
    "raw_file = \"raw_data/201809-citibike-tripdata.csv\"\n",
    "cleaned = clean_data_early(raw_file)\n",
    "sample = take_random_sample(cleaned)\n",
    "final_form_sep_18 = round_coords(sample)\n",
    "\n",
    "total_ridership_sep_18 = len(cleaned)"
   ]
  },
  {
   "cell_type": "code",
   "execution_count": 56,
   "id": "9da364b4",
   "metadata": {},
   "outputs": [],
   "source": [
    "months = [final_form_sep_22, final_form_aug_22, final_form_jul_22, final_form_jun_22, final_form_may_22, final_form_apr_22, final_form_mar_22, final_form_feb_22, final_form_jan_22, final_form_dec_21, final_form_nov_21, final_form_oct_21, final_form_sep_21, final_form_aug_21, final_form_jul_21, final_form_jun_21, final_form_may_21, final_form_apr_21, final_form_mar_21, final_form_feb_21, final_form_jan_21, final_form_dec_20, final_form_nov_20, final_form_oct_20, final_form_sep_20, final_form_aug_20, final_form_jul_20, final_form_jun_20, final_form_may_20, final_form_apr_20, final_form_mar_20, final_form_feb_20, final_form_jan_20, final_form_dec_19, final_form_nov_19, final_form_oct_19, final_form_sep_19, final_form_aug_19, final_form_jul_19, final_form_jun_19, final_form_may_19, final_form_apr_19, final_form_mar_19, final_form_feb_19, final_form_jan_19, final_form_dec_18, final_form_nov_18, final_form_oct_18, final_form_sep_18]\n",
    "\n",
    "year = pd.concat(months)\n",
    "\n",
    "year.to_csv(\"data_for_analysis/sep_18_through_sep_22.csv\")"
   ]
  },
  {
   "cell_type": "code",
   "execution_count": 57,
   "id": "a3fdaa47",
   "metadata": {},
   "outputs": [],
   "source": [
    "# Capture the total ridership for each month\n",
    "\n",
    "month = [\"09_2022\", \"08_2022\", \"07_2022\", \"06_2022\", \"05_2022\", \"04_2022\", \"03_2022\", \"02_2022\", \"01_2022\", \"12_2021\", \"11_2021\", \"10_2021\", \"09_2021\", \"08_2021\", \"07_2021\", \"06_2021\", \"05_2021\", \"04_2021\", \"03_2021\", \"02_2021\", \"01_2021\", \"12_2020\", \"11_2020\", \"10_2020\", \"09_2020\", \"08_2020\", \"07_2020\", \"06_2020\", \"05_2020\", \"04_2020\", \"03_2020\", \"02_2020\", \"01_2020\", \"12_2019\", \"11_2019\", \"10_2019\", \"09_2019\", \"08_2019\", \"07_2019\", \"06_2019\", \"05_2019\", \"04_2019\", \"03_2019\", \"02_2019\", \"01_2019\", \"12_2018\", \"11_2018\", \"10_2018\", \"09_2018\"]\n",
    "riders = [total_ridership_sep_2022, total_ridership_aug_2022, total_ridership_jul_2022, total_ridership_jun_2022, total_ridership_may_2022, total_ridership_apr_2022, total_ridership_mar_2022, total_ridership_feb_2022, total_ridership_jan_2022, total_ridership_dec_2021, total_ridership_nov_2021, total_ridership_oct_2021, total_ridership_sep_2021, total_ridership_aug_2021, total_ridership_jul_2021, total_ridership_jun_2021, total_ridership_may_2021, total_ridership_apr_2021, total_ridership_mar_2021, total_ridership_feb_2021, total_ridership_jan_2021, total_ridership_dec_20, total_ridership_nov_20, total_ridership_oct_20, total_ridership_sep_20, total_ridership_aug_20, total_ridership_jul_20, total_ridership_jun_20, total_ridership_may_20, total_ridership_apr_20, total_ridership_mar_20, total_ridership_feb_20, total_ridership_jan_20, total_ridership_dec_19, total_ridership_nov_19, total_ridership_oct_19, total_ridership_sep_19, total_ridership_aug_19, total_ridership_jul_19, total_ridership_jun_19, total_ridership_may_19, total_ridership_apr_19, total_ridership_mar_19, total_ridership_feb_19, total_ridership_jan_19, total_ridership_dec_18, total_ridership_nov_18, total_ridership_oct_18, total_ridership_sep_18]\n",
    "\n",
    "ridership_dict = {\"Month\": month, \"Total_Ridership\": riders}\n",
    "\n",
    "total_riders = pd.DataFrame(ridership_dict)\n",
    "\n",
    "total_riders.to_csv(\"data_for_analysis/total_riders.csv\")"
   ]
  },
  {
   "cell_type": "code",
   "execution_count": null,
   "id": "da62caa9",
   "metadata": {},
   "outputs": [],
   "source": []
  }
 ],
 "metadata": {
  "kernelspec": {
   "display_name": "Python 3 (ipykernel)",
   "language": "python",
   "name": "python3"
  },
  "language_info": {
   "codemirror_mode": {
    "name": "ipython",
    "version": 3
   },
   "file_extension": ".py",
   "mimetype": "text/x-python",
   "name": "python",
   "nbconvert_exporter": "python",
   "pygments_lexer": "ipython3",
   "version": "3.8.13"
  }
 },
 "nbformat": 4,
 "nbformat_minor": 5
}
