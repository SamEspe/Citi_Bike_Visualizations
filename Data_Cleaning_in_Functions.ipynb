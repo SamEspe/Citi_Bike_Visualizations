{
 "cells": [
  {
   "cell_type": "code",
   "execution_count": null,
   "id": "62417cb3",
   "metadata": {},
   "outputs": [],
   "source": [
    "# Import dependencies\n",
    "import pandas as pd\n",
    "import random\n",
    "import datetime as dt"
   ]
  },
  {
   "cell_type": "code",
   "execution_count": null,
   "id": "ac74280f",
   "metadata": {},
   "outputs": [],
   "source": [
    "# Cleans the data by dropping the columns I'm not interested in, removing entries with NaN values, and removing duplicates.\n",
    "def clean_data(csv):\n",
    "    raw_data = pd.read_csv(csv)\n",
    "    dropped_columns = raw_data.drop(columns=[\"ride_id\", \"start_station_id\", \"end_station_id\"])\n",
    "    dropped_nas = dropped_columns.dropna()\n",
    "    dropped_dups = dropped_nas.drop_duplicates(ignore_index=True)\n",
    "    reindexed_df = dropped_dups.reset_index(drop=True)\n",
    "    \n",
    "    return reindexed_df"
   ]
  },
  {
   "cell_type": "code",
   "execution_count": null,
   "id": "7c3a7b85",
   "metadata": {},
   "outputs": [],
   "source": [
    "# Takes a random sample of 100,000 entries for visualization with Tableau. This keeps the amount of data Tableau has to work \n",
    "# with to a more reasonable level, and it keeps the resulting CSV file under GitHub's maximum file size.\n",
    "def take_random_sample(df):\n",
    "    random_list = random.sample(range(0, len(df)), 100000)\n",
    "    sample_df = df[df.index.isin(random_list)]\n",
    "    sample_df = sample_df.reset_index(drop=True)\n",
    "    \n",
    "    return sample_df"
   ]
  },
  {
   "cell_type": "code",
   "execution_count": null,
   "id": "1b1e5e0c",
   "metadata": {},
   "outputs": [],
   "source": [
    "# Round the geographic coordinates of each entry to 3 decimal points. This helps trips at the same stations to get grouped together.\n",
    "def round_coords(df):\n",
    "    df[\"start_lat\"] = df[\"start_lat\"].round(3)\n",
    "    df[\"start_lng\"] = df[\"start_lng\"].round(3)\n",
    "    df[\"end_lat\"] = df[\"end_lat\"].round(3)\n",
    "    df[\"end_lng\"] = df[\"end_lng\"].round(3)\n",
    "    \n",
    "    return df"
   ]
  },
  {
   "cell_type": "code",
   "execution_count": null,
   "id": "4b6ef548",
   "metadata": {},
   "outputs": [],
   "source": [
    "def calculate_ride_time(df):\n",
    "    # Calculate the time each trip took, save it to a list\n",
    "\n",
    "    ride_time = []\n",
    "\n",
    "    for event in range(0, len(df)):\n",
    "        # Convert started_at to datetime object, save it\n",
    "        started_dt = dt.datetime.strptime(df[\"started_at\"][event], \"%Y-%m-%d %H:%M:%S\")\n",
    "        # Convert ended_at to datetime object, save it\n",
    "        ended_dt = dt.datetime.strptime(df[\"ended_at\"][event], \"%Y-%m-%d %H:%M:%S\")\n",
    "        # Calculate elapsed time in seconds\n",
    "        time_change = ended_dt - started_dt\n",
    "        elapsed_seconds = time_change.seconds\n",
    "        # Convert elapsed time in seconds to H:M:S string\n",
    "        ride_length = str(dt.timedelta(seconds = elapsed_seconds))\n",
    "        # Append string to series\n",
    "        ride_time.append(ride_length)\n",
    "        \n",
    "    df[\"ride_time\"] = ride_time\n",
    "    \n",
    "    return df"
   ]
  },
  {
   "cell_type": "code",
   "execution_count": null,
   "id": "5da778a0",
   "metadata": {},
   "outputs": [],
   "source": [
    "# September 2022 data\n",
    "\n",
    "raw_file = \"raw_data/202209-citibike-tripdata.csv\"\n",
    "cleaned = clean_data(raw_file)\n",
    "sample = take_random_sample(cleaned)\n",
    "rounded = round_coords(sample)\n",
    "final_form = calculate_ride_time(rounded)\n",
    "\n",
    "final_form.to_csv(\"data_for_analysis/09_2022_random_sample.csv\")\n",
    "\n",
    "total_ridership_sep_2022 = len(cleaned)"
   ]
  },
  {
   "cell_type": "code",
   "execution_count": null,
   "id": "fd91fc3e",
   "metadata": {},
   "outputs": [],
   "source": [
    "# August 2022 data\n",
    "\n",
    "raw_file = \"raw_data/202208-citibike-tripdata.csv\"\n",
    "cleaned = clean_data(raw_file)\n",
    "sample = take_random_sample(cleaned)\n",
    "rounded = round_coords(sample)\n",
    "final_form = calculate_ride_time(rounded)\n",
    "\n",
    "final_form.to_csv(\"data_for_analysis/08_2022_random_sample.csv\")\n",
    "\n",
    "total_ridership_aug_2022 = len(cleaned)"
   ]
  },
  {
   "cell_type": "code",
   "execution_count": null,
   "id": "79fa49da",
   "metadata": {},
   "outputs": [],
   "source": [
    "# July 2022 data\n",
    "\n",
    "raw_file = \"raw_data/202207-citibike-tripdata.csv\"\n",
    "cleaned = clean_data(raw_file)\n",
    "sample = take_random_sample(cleaned)\n",
    "rounded = round_coords(sample)\n",
    "final_form = calculate_ride_time(rounded)\n",
    "\n",
    "final_form.to_csv(\"data_for_analysis/07_2022_random_sample.csv\")\n",
    "\n",
    "total_ridership_jul_2022 = len(cleaned)"
   ]
  },
  {
   "cell_type": "code",
   "execution_count": null,
   "id": "a233d747",
   "metadata": {},
   "outputs": [],
   "source": [
    "# June 2022\n",
    "\n",
    "raw_file = \"raw_data/202206-citibike-tripdata.csv\"\n",
    "cleaned = clean_data(raw_file)\n",
    "sample = take_random_sample(cleaned)\n",
    "rounded = round_coords(sample)\n",
    "final_form = calculate_ride_time(rounded)\n",
    "\n",
    "final_form.to_csv(\"data_for_analysis/06_2022_random_sample.csv\")\n",
    "\n",
    "total_ridership_jun_2022 = len(cleaned)"
   ]
  },
  {
   "cell_type": "code",
   "execution_count": null,
   "id": "f17ce0b2",
   "metadata": {},
   "outputs": [],
   "source": [
    "# May 2022\n",
    "\n",
    "raw_file = \"raw_data/202205-citibike-tripdata.csv\"\n",
    "cleaned = clean_data(raw_file)\n",
    "sample = take_random_sample(cleaned)\n",
    "rounded = round_coords(sample)\n",
    "final_form = calculate_ride_time(rounded)\n",
    "\n",
    "final_form.to_csv(\"data_for_analysis/05_2022_random_sample.csv\")\n",
    "\n",
    "total_ridership_may_2022 = len(cleaned)"
   ]
  },
  {
   "cell_type": "code",
   "execution_count": null,
   "id": "bd5095fb",
   "metadata": {},
   "outputs": [],
   "source": [
    "# April 2022\n",
    "\n",
    "raw_file = \"raw_data/202204-citibike-tripdata.csv\"\n",
    "cleaned = clean_data(raw_file)\n",
    "sample = take_random_sample(cleaned)\n",
    "rounded = round_coords(sample)\n",
    "final_form = calculate_ride_time(rounded)\n",
    "\n",
    "final_form.to_csv(\"data_for_analysis/04_2022_random_sample.csv\")\n",
    "\n",
    "total_ridership_apr_2022 = len(cleaned)"
   ]
  },
  {
   "cell_type": "code",
   "execution_count": null,
   "id": "cce281ac",
   "metadata": {},
   "outputs": [],
   "source": [
    "# March 2022\n",
    "\n",
    "raw_file = \"raw_data/202203-citibike-tripdata.csv\"\n",
    "cleaned = clean_data(raw_file)\n",
    "sample = take_random_sample(cleaned)\n",
    "rounded = round_coords(sample)\n",
    "final_form = calculate_ride_time(rounded)\n",
    "\n",
    "final_form.to_csv(\"data_for_analysis/03_2022_random_sample.csv\")\n",
    "\n",
    "total_ridership_mar_2022 = len(cleaned)"
   ]
  },
  {
   "cell_type": "code",
   "execution_count": null,
   "id": "2947e99e",
   "metadata": {},
   "outputs": [],
   "source": [
    "# February 2022\n",
    "\n",
    "raw_file = \"raw_data/202202-citibike-tripdata.csv\"\n",
    "cleaned = clean_data(raw_file)\n",
    "sample = take_random_sample(cleaned)\n",
    "rounded = round_coords(sample)\n",
    "final_form = calculate_ride_time(rounded)\n",
    "\n",
    "final_form.to_csv(\"data_for_analysis/02_2022_random_sample.csv\")\n",
    "\n",
    "total_ridership_feb_2022 = len(cleaned)"
   ]
  },
  {
   "cell_type": "code",
   "execution_count": null,
   "id": "b33cf430",
   "metadata": {},
   "outputs": [],
   "source": [
    "# Jan 2022\n",
    "\n",
    "raw_file = \"raw_data/202201-citibike-tripdata.csv\"\n",
    "cleaned = clean_data(raw_file)\n",
    "sample = take_random_sample(cleaned)\n",
    "rounded = round_coords(sample)\n",
    "final_form = calculate_ride_time(rounded)\n",
    "\n",
    "final_form.to_csv(\"data_for_analysis/01_2022_random_sample.csv\")\n",
    "\n",
    "total_ridership_jan_2022 = len(cleaned)"
   ]
  },
  {
   "cell_type": "code",
   "execution_count": null,
   "id": "7947e3e7",
   "metadata": {},
   "outputs": [],
   "source": [
    "# December 2021\n",
    "\n",
    "raw_file = \"raw_data/202112-citibike-tripdata.csv\"\n",
    "cleaned = clean_data(raw_file)\n",
    "sample = take_random_sample(cleaned)\n",
    "rounded = round_coords(sample)\n",
    "final_form = calculate_ride_time(rounded)\n",
    "\n",
    "final_form.to_csv(\"data_for_analysis/12_2021_random_sample.csv\")\n",
    "\n",
    "total_ridership_dec_2021 = len(cleaned)"
   ]
  },
  {
   "cell_type": "code",
   "execution_count": null,
   "id": "4d2aeddf",
   "metadata": {},
   "outputs": [],
   "source": [
    "# November 2021\n",
    "\n",
    "raw_file = \"raw_data/202111-citibike-tripdata.csv\"\n",
    "cleaned = clean_data(raw_file)\n",
    "sample = take_random_sample(cleaned)\n",
    "rounded = round_coords(sample)\n",
    "final_form = calculate_ride_time(rounded)\n",
    "\n",
    "final_form.to_csv(\"data_for_analysis/11_2021_random_sample.csv\")\n",
    "\n",
    "total_ridership_nov_2021 = len(cleaned)"
   ]
  },
  {
   "cell_type": "code",
   "execution_count": null,
   "id": "b09b1de1",
   "metadata": {},
   "outputs": [],
   "source": [
    "# October 2021\n",
    "\n",
    "raw_file = \"raw_data/202110-citibike-tripdata.csv\"\n",
    "cleaned = clean_data(raw_file)\n",
    "sample = take_random_sample(cleaned)\n",
    "rounded = round_coords(sample)\n",
    "final_form = calculate_ride_time(rounded)\n",
    "\n",
    "final_form.to_csv(\"data_for_analysis/10_2021_random_sample.csv\")\n",
    "\n",
    "total_ridership_oct_2021 = len(cleaned)"
   ]
  },
  {
   "cell_type": "code",
   "execution_count": null,
   "id": "32b017e7",
   "metadata": {},
   "outputs": [],
   "source": [
    "# September 2021\n",
    "\n",
    "raw_file = \"raw_data/202109-citibike-tripdata.csv\"\n",
    "cleaned = clean_data(raw_file)\n",
    "sample = take_random_sample(cleaned)\n",
    "rounded = round_coords(sample)\n",
    "final_form = calculate_ride_time(rounded)\n",
    "\n",
    "final_form.to_csv(\"data_for_analysis/09_2021_random_sample.csv\")\n",
    "\n",
    "total_ridership_sep_2021 = len(cleaned)"
   ]
  },
  {
   "cell_type": "code",
   "execution_count": null,
   "id": "4ca03aa7",
   "metadata": {},
   "outputs": [],
   "source": [
    "# Capture the total ridership for each month\n",
    "\n",
    "month = [\"09_2022\", \"08_2022\", \"07_2022\", \"06_2022\", \"05_2022\", \"04_2022\", \"03_2022\", \"02_2022\", \"01_2022\", \"12_2021\", \"11_2021\", \"10_2021\", \"09_2021\"]\n",
    "riders = [total_ridership_sep_2022, total_ridership_aug_2022, total_ridership_jul_2022, total_ridership_jun_2022, total_ridership_may_2022, total_ridership_apr_2022, total_ridership_mar_2022, total_ridership_feb_2022, total_ridership_jan_2022, total_ridership_dec_2021, total_ridership_nov_2021, total_ridership_oct_2021, total_ridership_sep_2021]\n",
    "\n",
    "ridership_dict = {\"Month\": month, \"Total_Ridership\": riders}\n",
    "\n",
    "total_riders = pd.DataFrame(ridership_dict)"
   ]
  },
  {
   "cell_type": "code",
   "execution_count": null,
   "id": "a3fdaa47",
   "metadata": {},
   "outputs": [],
   "source": [
    "total_riders.to_csv(\"data_for_analysis/total_riders.csv\")"
   ]
  },
  {
   "cell_type": "code",
   "execution_count": null,
   "id": "da62caa9",
   "metadata": {},
   "outputs": [],
   "source": []
  }
 ],
 "metadata": {
  "kernelspec": {
   "display_name": "Python 3 (ipykernel)",
   "language": "python",
   "name": "python3"
  },
  "language_info": {
   "codemirror_mode": {
    "name": "ipython",
    "version": 3
   },
   "file_extension": ".py",
   "mimetype": "text/x-python",
   "name": "python",
   "nbconvert_exporter": "python",
   "pygments_lexer": "ipython3",
   "version": "3.8.13"
  }
 },
 "nbformat": 4,
 "nbformat_minor": 5
}
